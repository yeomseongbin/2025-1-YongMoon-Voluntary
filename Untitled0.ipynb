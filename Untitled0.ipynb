{
  "nbformat": 4,
  "nbformat_minor": 0,
  "metadata": {
    "colab": {
      "provenance": []
    },
    "kernelspec": {
      "name": "python3",
      "display_name": "Python 3"
    },
    "language_info": {
      "name": "python"
    }
  },
  "cells": [
    {
      "cell_type": "code",
      "execution_count": 12,
      "metadata": {
        "colab": {
          "base_uri": "https://localhost:8080/"
        },
        "id": "zWMjtyI2Jhj5",
        "outputId": "2f387807-d0d7-4dad-875e-081ab1f562b8"
      },
      "outputs": [
        {
          "output_type": "stream",
          "name": "stdout",
          "text": [
            "tensor([[1, 2],\n",
            "        [3, 4]])\n"
          ]
        }
      ],
      "source": [
        "import torch\n",
        "data=[[1,2],[3,4]]\n",
        "x_data=torch.tensor(data)\n",
        "print(x_data)"
      ]
    },
    {
      "cell_type": "code",
      "source": [
        "tensor=x_data\n",
        "tensor[:,1]=0\n",
        "print(tensor)\n",
        "y1=tensor @ tensor.T\n",
        "y2=tensor.matmul(tensor.T)\n",
        "\n",
        "print(y1)\n",
        "print(y2)"
      ],
      "metadata": {
        "colab": {
          "base_uri": "https://localhost:8080/"
        },
        "id": "JVUn2x3HJndk",
        "outputId": "a83a38f8-e6d7-4f2c-ee85-9d936f0dab0e"
      },
      "execution_count": 13,
      "outputs": [
        {
          "output_type": "stream",
          "name": "stdout",
          "text": [
            "tensor([[1, 0],\n",
            "        [3, 0]])\n",
            "tensor([[1, 3],\n",
            "        [3, 9]])\n",
            "tensor([[1, 3],\n",
            "        [3, 9]])\n"
          ]
        }
      ]
    },
    {
      "cell_type": "code",
      "source": [],
      "metadata": {
        "id": "uxqCQ0_-LSY1"
      },
      "execution_count": null,
      "outputs": []
    }
  ]
}